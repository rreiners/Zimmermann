{
 "cells": [
  {
   "attachments": {},
   "cell_type": "markdown",
   "metadata": {},
   "source": [
    "<div style=\"font-weight:bold;font-size:30px;margin-bottom:-5px\">Labs Submission 4: Neural Nets</div>\n",
    "\n",
    "*submitted by: Lixiao Hu, Moritz Raykowski and Robin Reiners*\n",
    "\n",
    "---\n",
    "\n",
    "<p style=\"font-weight: bold\">Table of Content:</p>\n",
    "\n",
    "* [Problem Definition 1: Network calculus](#network-calculus)\n",
    "    * [1.1 Question](#1-1)\n",
    "    * [1.2 Question](#1-2)\n",
    "    * [1.3 Question](#1-3)\n",
    "* [Problem Definition 2: Tensorflow and Keras](#tensorflow-and-keras)\n",
    "    * [2.1 Question](#2-1)\n",
    "    * [2.2 Question](#2-2)\n",
    "    * [2.3 Question](#2-3)\n",
    "    * [2.4 Question](#2-4)\n",
    "    * [2.5 Question](#2-5)\n",
    "    * [2.6 Question](#2-6)\n",
    "\n",
    "---"
   ]
  },
  {
   "attachments": {},
   "cell_type": "markdown",
   "metadata": {},
   "source": [
    "*install required dependencies:*"
   ]
  },
  {
   "cell_type": "code",
   "execution_count": 1,
   "metadata": {},
   "outputs": [
    {
     "name": "stdout",
     "output_type": "stream",
     "text": [
      "numpy is already installed.\n",
      "pandas is already installed.\n",
      "matplotlib is already installed.\n",
      "seaborn is already installed.\n",
      "tensorflow is already installed.\n",
      "keras is already installed.\n",
      "pydot is already installed.\n"
     ]
    },
    {
     "data": {
      "text/html": [
       "<style>.output { display: flex; justify-content: center; }</style>"
      ],
      "text/plain": [
       "<IPython.core.display.HTML object>"
      ]
     },
     "metadata": {},
     "output_type": "display_data"
    }
   ],
   "source": [
    "import importlib\n",
    "\n",
    "def import_or_install(package):\n",
    "    try:\n",
    "        importlib.import_module(package)\n",
    "        print(f\"{package} is already installed.\")\n",
    "    except ImportError:\n",
    "        print(f\"{package} is not installed. Installing...\")\n",
    "        import subprocess\n",
    "        subprocess.check_call(['pip', 'install', package])\n",
    "        print(f\"{package} has been installed.\")\n",
    "\n",
    "\n",
    "libraries = ['numpy', 'pandas', 'matplotlib', 'seaborn', 'tensorflow', 'keras', 'pydot']\n",
    "\n",
    "for library in libraries:\n",
    "    import_or_install(library)\n",
    "    globals()[library] = importlib.import_module(library)\n",
    "\n",
    "import numpy as np\n",
    "import pandas as pd\n",
    "import seaborn as sns\n",
    "import tensorflow as tf\n",
    "import matplotlib.pyplot as plt\n",
    "\n",
    "from tensorflow import keras\n",
    "from keras import layers\n",
    "from IPython.display import display, clear_output, HTML, Math\n",
    "from matplotlib.ticker import PercentFormatter\n",
    "\n",
    "# Display the plot centered within the cell\n",
    "display(HTML(\"<style>.output { display: flex; justify-content: center; }</style>\"))"
   ]
  },
  {
   "attachments": {},
   "cell_type": "markdown",
   "metadata": {},
   "source": [
    "<a id='network-calculus'></a> <p style=\"text-decoration: underline; font-style: italic; font-size:24px\">Problem Definition: Network calculus</p>\n",
    "\n",
    "Consider a very simple feed-forward network with a single hidden layer that has two units, just like in\n",
    "the numerical example in the lecture notes. Let the coefficients be $\\beta_{11}^{(1)}=0.5, \\beta_{12}^{(1)}=2, \\beta_{21}^{(1)}=1, \\beta_{22}^{(1)}=0.5, \\beta_1^{(2)}=2, \\beta_1^{(2)}=1$, and we ignore constant terms, also just like in the lecture notes.\n",
    "The code below computes the activation of unit 1 in the hidden layer.\n",
    "```python\n",
    "g1 = lambda z: max(0, z) # ReLu activation\n",
    "beta_11_1 = 0.5\n",
    "beta_21_1 = 1\n",
    "a_1_1 = g1(beta_11_1*x1 + beta_21_1*x2)\n",
    "\n",
    "```"
   ]
  },
  {
   "attachments": {},
   "cell_type": "markdown",
   "metadata": {},
   "source": [
    "<p style=\"text-decoration: underline\" id='1-1'>Lab-Question 1.1:</p>\n",
    "\n",
    "*What’s the activation for unit 2 in the hidden layer at $x_{1} = −7$ and $x_{2} = 5$, i.e. what’s $a_{2}^{(1)}(z_{2}^{(1)})$? Define that value as a_2_1.*\n",
    "\n",
    "---\n",
    "\n",
    "**Answer:** To calculate the activation a_2.1 for unit 2 in the hidden layer, we need to follow a similar process as for unit 1. We'll use the provided coefficients and input values x1 = -7 and x2 = 5."
   ]
  },
  {
   "cell_type": "code",
   "execution_count": 2,
   "metadata": {},
   "outputs": [
    {
     "data": {
      "text/latex": [
       "$\\displaystyle a_{2}^{(1)}(z_{2}^{(1)})=0$"
      ],
      "text/plain": [
       "<IPython.core.display.Math object>"
      ]
     },
     "metadata": {},
     "output_type": "display_data"
    }
   ],
   "source": [
    "g1 = lambda z: max(0, z)\n",
    "\n",
    "beta_12_1 = 2\n",
    "beta_22_1 = 0.5\n",
    "x1 = -7\n",
    "x2 = 5\n",
    "\n",
    "z_2_1 = beta_12_1 * x1 + beta_22_1 * x2\n",
    "a_2_1 = g1(z_2_1)\n",
    "\n",
    "display(Math(\"$a_{2}^{(1)}(z_{2}^{(1)})=\" + str(a_2_1) + \"$\"))"
   ]
  },
  {
   "attachments": {},
   "cell_type": "markdown",
   "metadata": {},
   "source": [
    "<p style=\"text-decoration: underline\" id='1-2'>Lab-Question 1.2:</p>\n",
    "\n",
    "*Write code to calculate the predicted output at $x_{1} = −7$ and $x_{2} = 5$ given the coefficient values above and using a linear activation function in the output layer, i.e. $g_{2}(z) = z$.*\n",
    "\n",
    "---\n",
    "\n",
    "**Answer:** To calculate the predicted output using the given coefficient values and a linear activation function $g_{2}(z) = z$ in the output layer, we can perform the following computations:"
   ]
  },
  {
   "cell_type": "code",
   "execution_count": 3,
   "metadata": {},
   "outputs": [
    {
     "data": {
      "text/latex": [
       "$\\displaystyle \\hat{y}=3.0$"
      ],
      "text/plain": [
       "<IPython.core.display.Math object>"
      ]
     },
     "metadata": {},
     "output_type": "display_data"
    }
   ],
   "source": [
    "g2 = lambda z: z\n",
    "\n",
    "beta_11_1 = 0.5\n",
    "beta_12_1 = 2\n",
    "beta_21_1 = 1\n",
    "beta_22_1 = 0.5\n",
    "beta_1_2 = 2\n",
    "beta_2_2 = 1\n",
    "x1 = -7\n",
    "x2 = 5\n",
    "\n",
    "# Hidden layer activations\n",
    "z_1_1 = beta_11_1 * x1 + beta_21_1 * x2\n",
    "a_1_1 = g1(z_1_1)\n",
    "\n",
    "z_2_1 = beta_12_1 * x1 + beta_22_1 * x2\n",
    "a_2_1 = g1(z_2_1)\n",
    "\n",
    "# Output layer activation\n",
    "z_1_2 = beta_1_2 * a_1_1 + beta_2_2 * a_2_1\n",
    "a_1_2 = g2(z_1_2)\n",
    "\n",
    "display(Math(\"$\\hat{y}=\" + str(a_1_2) + \"$\"))"
   ]
  },
  {
   "attachments": {},
   "cell_type": "markdown",
   "metadata": {},
   "source": [
    "<p style=\"text-decoration: underline\" id='1-3'>Lab-Question 1.3:</p>\n",
    "\n",
    "*How do your results change if you use leaky ReLU as activation function in the hidden layer with $α = 0.1$?*\n",
    "\n",
    "---\n",
    "\n",
    "**Answer:** In general, we do similar computations as before, but now we use the leaky ReLu as activation function g3 with $α = 0.1$ in the hidden layer, thus the values of ```a_1_1``` and ```a_2_1``` will be computed using the updated leaky_relu function. Note that in the last layer we still use linear activation similarly to before."
   ]
  },
  {
   "cell_type": "code",
   "execution_count": 4,
   "metadata": {},
   "outputs": [
    {
     "data": {
      "text/latex": [
       "$\\displaystyle \\hat{y}_{LeakyReLu}=1.85$"
      ],
      "text/plain": [
       "<IPython.core.display.Math object>"
      ]
     },
     "metadata": {},
     "output_type": "display_data"
    }
   ],
   "source": [
    "leaky_relu = lambda z, alpha: z if z >= 0 else alpha * z\n",
    "\n",
    "beta_11_1 = 0.5\n",
    "beta_12_1 = 2\n",
    "beta_21_1 = 1\n",
    "beta_22_1 = 0.5\n",
    "beta_1_2 = 2\n",
    "beta_2_2 = 1\n",
    "x1 = -7\n",
    "x2 = 5\n",
    "alpha = 0.1\n",
    "\n",
    "# Hidden layer activations\n",
    "z_1_1 = beta_11_1 * x1 + beta_21_1 * x2\n",
    "a_1_1 = leaky_relu(z_1_1, alpha)\n",
    "\n",
    "z_2_1 = beta_12_1 * x1 + beta_22_1 * x2\n",
    "a_2_1 = leaky_relu(z_2_1, alpha)\n",
    "\n",
    "# Output layer activation\n",
    "z_1_2 = beta_1_2 * a_1_1 + beta_2_2 * a_2_1\n",
    "a_1_2 = g2(z_1_2)\n",
    "\n",
    "display(Math(\"$\\hat{y}_{LeakyReLu}=\" + str(round(a_1_2,2)) + \"$\"))"
   ]
  },
  {
   "attachments": {},
   "cell_type": "markdown",
   "metadata": {},
   "source": [
    "<a id='tensorflow-and-keras'></a> <p style=\"text-decoration: underline; font-style: italic; font-size:24px\">Problem Definition: Tensorflow and Keras</p>\n",
    "\n",
    "In the following, you will build a neural network to predict apartment rents in Germany. Please download the dataset ```Lab4_Neural_Nets.csv```. The files contain apartment listings throughout Germany with the following variables: \n",
    "- **id** (a unique identifier for an apartment listing)\n",
    "- **Rent** (monthly rent), \n",
    "- **livingspace** (apartment space in square meters) \n",
    "- **NoOfRooms** (number of rooms)\n",
    "- **lat and lon** (latitude and longitude of the listing), \n",
    "- **distanceShop** (distance to nearest shopping center), \n",
    "- **various dummies** *for whether the apartment has a balcony, a kitchen or a garden, or whether the listing is made privately (rather than by a real estate agent), or whether the listing includes a floorplan*.\n",
    "\n",
    "Import the keras and tensorflow library and set the seed to 42.\n",
    "```python\n",
    "import tensorflow as tf\n",
    "from tensorflow import keras\n",
    "\n",
    "random_seed = 42\n",
    "```"
   ]
  },
  {
   "attachments": {},
   "cell_type": "markdown",
   "metadata": {},
   "source": [
    "<p style=\"text-decoration: underline\" id='2-1'>Lab-Question 2.1:</p>\n",
    "\n",
    "*Familiarize yourself with the data. Do features take different ranges of values?*\n",
    "\n",
    "---\n",
    "\n",
    "**Answer:** First of all, we observe that the features dum_balcony, dum_builtinkitchen, dum_floorplan, dum_garden and dum_privatoffer have binary values. The observations are ordered by increasing id number. The minimum and maximum values of the remaining features are listed in the Table below. We observe that the features actually do have different ranges of values. As a result, we conclude that the ranges of the values do actually differ. Therefore, we decide to normalize the data."
   ]
  },
  {
   "cell_type": "code",
   "execution_count": 5,
   "metadata": {},
   "outputs": [],
   "source": [
    "# Load the data\n",
    "data = pd.read_csv(\"data\\Lab4_Neural_Nets.csv\")\n",
    "data[\"id\"] = data[\"id\"].astype('category')"
   ]
  },
  {
   "cell_type": "code",
   "execution_count": 6,
   "metadata": {},
   "outputs": [
    {
     "data": {
      "text/html": [
       "<div>\n",
       "<style scoped>\n",
       "    .dataframe tbody tr th:only-of-type {\n",
       "        vertical-align: middle;\n",
       "    }\n",
       "\n",
       "    .dataframe tbody tr th {\n",
       "        vertical-align: top;\n",
       "    }\n",
       "\n",
       "    .dataframe thead th {\n",
       "        text-align: right;\n",
       "    }\n",
       "</style>\n",
       "<table border=\"1\" class=\"dataframe\">\n",
       "  <thead>\n",
       "    <tr style=\"text-align: right;\">\n",
       "      <th></th>\n",
       "      <th>count</th>\n",
       "      <th>mean</th>\n",
       "      <th>std</th>\n",
       "      <th>min</th>\n",
       "      <th>25%</th>\n",
       "      <th>50%</th>\n",
       "      <th>75%</th>\n",
       "      <th>max</th>\n",
       "    </tr>\n",
       "  </thead>\n",
       "  <tbody>\n",
       "    <tr>\n",
       "      <th>Rent</th>\n",
       "      <td>39241.0</td>\n",
       "      <td>533.762793</td>\n",
       "      <td>328.341716</td>\n",
       "      <td>163.000000</td>\n",
       "      <td>310.000000</td>\n",
       "      <td>415.00000</td>\n",
       "      <td>650.000000</td>\n",
       "      <td>2135.000000</td>\n",
       "    </tr>\n",
       "    <tr>\n",
       "      <th>livingspace</th>\n",
       "      <td>39241.0</td>\n",
       "      <td>67.866994</td>\n",
       "      <td>23.547228</td>\n",
       "      <td>21.000000</td>\n",
       "      <td>52.799999</td>\n",
       "      <td>64.00000</td>\n",
       "      <td>79.629997</td>\n",
       "      <td>155.000000</td>\n",
       "    </tr>\n",
       "    <tr>\n",
       "      <th>NoOfRooms</th>\n",
       "      <td>39241.0</td>\n",
       "      <td>2.537485</td>\n",
       "      <td>0.882069</td>\n",
       "      <td>1.000000</td>\n",
       "      <td>2.000000</td>\n",
       "      <td>2.50000</td>\n",
       "      <td>3.000000</td>\n",
       "      <td>9.000000</td>\n",
       "    </tr>\n",
       "    <tr>\n",
       "      <th>lat</th>\n",
       "      <td>39241.0</td>\n",
       "      <td>51.320922</td>\n",
       "      <td>1.223049</td>\n",
       "      <td>47.444778</td>\n",
       "      <td>50.836239</td>\n",
       "      <td>51.32423</td>\n",
       "      <td>51.803322</td>\n",
       "      <td>54.933430</td>\n",
       "    </tr>\n",
       "    <tr>\n",
       "      <th>lon</th>\n",
       "      <td>39241.0</td>\n",
       "      <td>10.547340</td>\n",
       "      <td>2.489982</td>\n",
       "      <td>5.908390</td>\n",
       "      <td>8.105950</td>\n",
       "      <td>11.43240</td>\n",
       "      <td>12.520330</td>\n",
       "      <td>15.009500</td>\n",
       "    </tr>\n",
       "    <tr>\n",
       "      <th>distanceShop</th>\n",
       "      <td>39241.0</td>\n",
       "      <td>3.620615</td>\n",
       "      <td>2.506534</td>\n",
       "      <td>0.000080</td>\n",
       "      <td>1.526366</td>\n",
       "      <td>3.20470</td>\n",
       "      <td>5.344620</td>\n",
       "      <td>9.999823</td>\n",
       "    </tr>\n",
       "  </tbody>\n",
       "</table>\n",
       "</div>"
      ],
      "text/plain": [
       "                count        mean         std         min         25%   \n",
       "Rent          39241.0  533.762793  328.341716  163.000000  310.000000  \\\n",
       "livingspace   39241.0   67.866994   23.547228   21.000000   52.799999   \n",
       "NoOfRooms     39241.0    2.537485    0.882069    1.000000    2.000000   \n",
       "lat           39241.0   51.320922    1.223049   47.444778   50.836239   \n",
       "lon           39241.0   10.547340    2.489982    5.908390    8.105950   \n",
       "distanceShop  39241.0    3.620615    2.506534    0.000080    1.526366   \n",
       "\n",
       "                    50%         75%          max  \n",
       "Rent          415.00000  650.000000  2135.000000  \n",
       "livingspace    64.00000   79.629997   155.000000  \n",
       "NoOfRooms       2.50000    3.000000     9.000000  \n",
       "lat            51.32423   51.803322    54.933430  \n",
       "lon            11.43240   12.520330    15.009500  \n",
       "distanceShop    3.20470    5.344620     9.999823  "
      ]
     },
     "execution_count": 6,
     "metadata": {},
     "output_type": "execute_result"
    },
    {
     "data": {
      "image/png": "[encoded data removed]",
      "text/plain": [
       "<Figure size 640x480 with 1 Axes>"
      ]
     },
     "metadata": {},
     "output_type": "display_data"
    }
   ],
   "source": [
    "numeric_columns = ['Rent', 'livingspace', 'NoOfRooms', 'lat', 'lon', 'distanceShop']\n",
    "sns.boxplot(data=data[numeric_columns])\n",
    "\n",
    "data[numeric_columns].describe().T"
   ]
  },
  {
   "cell_type": "code",
   "execution_count": 7,
   "metadata": {},
   "outputs": [
    {
     "data": {
      "text/html": [
       "<div>\n",
       "<style scoped>\n",
       "    .dataframe tbody tr th:only-of-type {\n",
       "        vertical-align: middle;\n",
       "    }\n",
       "\n",
       "    .dataframe tbody tr th {\n",
       "        vertical-align: top;\n",
       "    }\n",
       "\n",
       "    .dataframe thead th {\n",
       "        text-align: right;\n",
       "    }\n",
       "</style>\n",
       "<table border=\"1\" class=\"dataframe\">\n",
       "  <thead>\n",
       "    <tr style=\"text-align: right;\">\n",
       "      <th></th>\n",
       "      <th>count</th>\n",
       "      <th>unique</th>\n",
       "      <th>top</th>\n",
       "      <th>freq</th>\n",
       "    </tr>\n",
       "  </thead>\n",
       "  <tbody>\n",
       "    <tr>\n",
       "      <th>dum_balcony</th>\n",
       "      <td>39241</td>\n",
       "      <td>2</td>\n",
       "      <td>True</td>\n",
       "      <td>23755</td>\n",
       "    </tr>\n",
       "    <tr>\n",
       "      <th>dum_builtinkitchen</th>\n",
       "      <td>39241</td>\n",
       "      <td>2</td>\n",
       "      <td>False</td>\n",
       "      <td>28324</td>\n",
       "    </tr>\n",
       "    <tr>\n",
       "      <th>dum_floorplan</th>\n",
       "      <td>39241</td>\n",
       "      <td>2</td>\n",
       "      <td>True</td>\n",
       "      <td>20307</td>\n",
       "    </tr>\n",
       "    <tr>\n",
       "      <th>dum_garden</th>\n",
       "      <td>39241</td>\n",
       "      <td>2</td>\n",
       "      <td>False</td>\n",
       "      <td>32044</td>\n",
       "    </tr>\n",
       "    <tr>\n",
       "      <th>dum_privateoffer</th>\n",
       "      <td>39241</td>\n",
       "      <td>2</td>\n",
       "      <td>False</td>\n",
       "      <td>32516</td>\n",
       "    </tr>\n",
       "  </tbody>\n",
       "</table>\n",
       "</div>"
      ],
      "text/plain": [
       "                    count unique    top   freq\n",
       "dum_balcony         39241      2   True  23755\n",
       "dum_builtinkitchen  39241      2  False  28324\n",
       "dum_floorplan       39241      2   True  20307\n",
       "dum_garden          39241      2  False  32044\n",
       "dum_privateoffer    39241      2  False  32516"
      ]
     },
     "execution_count": 7,
     "metadata": {},
     "output_type": "execute_result"
    },
    {
     "data": {
      "image/png": "[encoded data removed]",
      "text/plain": [
       "<Figure size 640x480 with 1 Axes>"
      ]
     },
     "metadata": {},
     "output_type": "display_data"
    }
   ],
   "source": [
    "bool_columns = [\"dum_balcony\", \"dum_builtinkitchen\", \"dum_floorplan\", \"dum_garden\", \"dum_privateoffer\"]\n",
    "sns.histplot(data=data[bool_columns])\n",
    "data[bool_columns] = data[bool_columns].astype(bool)\n",
    "data[bool_columns].describe().T"
   ]
  },
  {
   "attachments": {},
   "cell_type": "markdown",
   "metadata": {},
   "source": [
    "<p style=\"text-decoration: underline\" id='2-2'>Lab-Question 2.2:</p>\n",
    "\n",
    "*As a first step, build a neural network using keras with 3 hidden layers (32 units each and ”ReLu“ activation function). Output the model architecture to check how it looks like.*\n",
    "\n",
    "---\n",
    "\n",
    "**Answer:** First, we built the model, print the information of model and confirm that the model was built correctly. We have 3 hidden layers with 32 units each and \"ReLu\" as activation function."
   ]
  },
  {
   "cell_type": "code",
   "execution_count": 8,
   "metadata": {},
   "outputs": [
    {
     "name": "stdout",
     "output_type": "stream",
     "text": [
      "Model: \"sequential\"\n",
      "_________________________________________________________________\n",
      " Layer (type)                Output Shape              Param #   \n",
      "=================================================================\n",
      " dense (Dense)               (None, 32)                352       \n",
      "                                                                 \n",
      " dense_1 (Dense)             (None, 32)                1056      \n",
      "                                                                 \n",
      " dense_2 (Dense)             (None, 32)                1056      \n",
      "                                                                 \n",
      " dense_3 (Dense)             (None, 1)                 33        \n",
      "                                                                 \n",
      "=================================================================\n",
      "Total params: 2,497\n",
      "Trainable params: 2,497\n",
      "Non-trainable params: 0\n",
      "_________________________________________________________________\n"
     ]
    }
   ],
   "source": [
    "# Define the model\n",
    "model_1 = keras.Sequential([\n",
    "    layers.Dense(units=32, activation='relu', input_shape=(10,)),\n",
    "    layers.Dense(units=32, activation='relu'),\n",
    "    layers.Dense(units=32, activation='relu'),\n",
    "    layers.Dense(units=1)\n",
    "])\n",
    "\n",
    "model_1.summary()"
   ]
  },
  {
   "cell_type": "code",
   "execution_count": 9,
   "metadata": {},
   "outputs": [],
   "source": [
    "from keras_visualizer import visualizer \n",
    "\n",
    "visualizer(model_1, file_format='png', view=True)"
   ]
  },
  {
   "attachments": {},
   "cell_type": "markdown",
   "metadata": {},
   "source": [
    "<img src=\"graph.png\" width=750>"
   ]
  },
  {
   "attachments": {},
   "cell_type": "markdown",
   "metadata": {},
   "source": [
    "<p style=\"text-decoration: underline\" id='2-3'>Lab-Question 2.3:</p>\n",
    "\n",
    "*Split the data into two parts, a training, and a test set. The test set should comprise 5000 observations. Put the test set aside as you will use it later on. Now train the model using a 70/30 split into training and validation set (epochs = 100, batch_size=30) and plot the MSE in the validation set.*\n",
    "\n",
    "---\n",
    "\n",
    "**Answer:** We normalize the data in the training data set to overcome the different ranges (see [Lab-Question 2.1](#2-1)). We split the data in a training set data train and a test set data test such that the test set constains 5000 observations and train the model using a 70/30 split and plotted the loss values (which is measured by MSE) depending on the epoch"
   ]
  },
  {
   "cell_type": "code",
   "execution_count": 33,
   "metadata": {},
   "outputs": [
    {
     "data": {
      "image/png": "[encoded data removed]",
      "text/plain": [
       "<Figure size 640x480 with 1 Axes>"
      ]
     },
     "metadata": {},
     "output_type": "display_data"
    }
   ],
   "source": [
    "from sklearn.model_selection import train_test_split\n",
    "from sklearn.preprocessing import StandardScaler\n",
    "\n",
    "# Splitting the data into training, validation, and test sets\n",
    "test_size = 5000\n",
    "val_size = int(0.3 * (len(data) - test_size))\n",
    "train_size = len(data) - val_size - test_size\n",
    "\n",
    "# Shuffle the data\n",
    "data_shuffled = data.sample(frac=1, random_state=42).drop(columns=[\"id\"])\n",
    "\n",
    "# Extracting the input features and target variable\n",
    "x = data_shuffled.drop(columns=['Rent'])\n",
    "y = data_shuffled['Rent']\n",
    "\n",
    "# Normalize the input features\n",
    "x_scaler = StandardScaler()\n",
    "x_scaled = x_scaler.fit_transform(x)\n",
    "\n",
    "# Scale the target variable\n",
    "y_scaler = StandardScaler()\n",
    "y_scaled = y_scaler.fit_transform(y.values.reshape(-1, 1))\n",
    "\n",
    "# Splitting the normalized data into training, validation, and test sets\n",
    "x_train, x_val, y_train, y_val = train_test_split(\n",
    "    x_scaled, y_scaled, \n",
    "    test_size=(val_size + test_size), \n",
    "    random_state=42\n",
    ")\n",
    "x_val, x_test, y_val, y_test = train_test_split(\n",
    "    x_val, y_val, \n",
    "    test_size=(test_size / (val_size + test_size)), \n",
    "    random_state=42\n",
    ")\n",
    "\n",
    "# Compiling the model\n",
    "model_1.compile(optimizer='adam', loss='mean_squared_error')\n",
    "\n",
    "# Training the model\n",
    "history_mse = model_1.fit(\n",
    "    x_train, y_train, \n",
    "    batch_size=30, epochs=100, \n",
    "    validation_data=(x_val, y_val), \n",
    "    verbose=1\n",
    ")\n",
    "\n",
    "# Creating a dataframe to store the MSE values\n",
    "mse_df = pd.DataFrame({\n",
    "    'Epochs': range(1, len(history_mse.history['loss']) + 1),\n",
    "    'Train MSE': history_mse.history['loss'],\n",
    "    'Validation MSE': history_mse.history['val_loss']\n",
    "})\n",
    "\n",
    "# Plotting the scatter plot\n",
    "sns.scatterplot(data=mse_df, x='Epochs', y='Train MSE', label='Train MSE')\n",
    "sns.scatterplot(data=mse_df, x='Epochs', y='Validation MSE', label='Validation MSE')\n",
    "plt.title('Mean Squared Error vs. Epochs')\n",
    "plt.xlabel('Epochs')\n",
    "plt.ylabel('MSE')\n",
    "plt.show()"
   ]
  },
  {
   "attachments": {},
   "cell_type": "markdown",
   "metadata": {},
   "source": [
    "We can observe that the loss value for the training data consistently decreases as the number of epochs increases, particularly in the initial stages where the decrease is more pronounced. This can be attributed to the fact that the initial coefficients are relatively poor compared to the updated coefficients. On the other hand, the validation data shows a considerably lower loss value since it utilizes the updated coefficients rather than the initial ones. The loss values for the validation data also decrease, but they exhibit slightly more variability compared to the training data. Additionally, the decrease in loss values for the validation set is less pronounced than that of the training set, with the validation points appearing above the training data points."
   ]
  },
  {
   "attachments": {},
   "cell_type": "markdown",
   "metadata": {},
   "source": [
    "<p style=\"text-decoration: underline\" id='2-4'>Lab-Question 2.4:</p>\n",
    "\n",
    "*For better interpretation, you also want to investigate the mean absolute error (MAE). Please write yourself a MAE measure using the keras backend functions and include it as metric during training (Hint: for this custom metric, set axis=0 for k_mean). How large is the MAE in the validation set after training?*\n",
    "\n",
    "---\n",
    "\n",
    "**Answer:** We first implement a costumized mean absolute error metric and included it in compile"
   ]
  },
  {
   "cell_type": "code",
   "execution_count": 41,
   "metadata": {},
   "outputs": [
    {
     "name": "stdout",
     "output_type": "stream",
     "text": [
      "321/321 [==============================] - 1s 3ms/step - loss: 0.2317 - <lambda>: 0.3136\n",
      "MAE in the validation set: 0.31362244486808777\n"
     ]
    }
   ],
   "source": [
    "import tensorflow.keras.backend as K\n",
    "\n",
    "# Custom MAE metric\n",
    "custom_mae = lambda y_true, y_pred: K.mean(K.abs(y_pred - y_true), axis=0)\n",
    "\n",
    "model_2 = keras.Sequential([\n",
    "    layers.Dense(units=32, activation='relu', input_shape=(10,)),\n",
    "    layers.Dense(units=32, activation='relu'),\n",
    "    layers.Dense(units=32, activation='relu'),\n",
    "    layers.Dense(units=1)\n",
    "])\n",
    "\n",
    "# Compiling the model with custom MAE metric\n",
    "model_2.compile(optimizer='adam', loss='mean_squared_error', metrics=[custom_mae])\n",
    "\n",
    "# Training the model\n",
    "history_mae = model_2.fit(\n",
    "    x_train, y_train, \n",
    "    batch_size=30, epochs=100, \n",
    "    validation_data=(x_val, y_val), \n",
    "    verbose=0\n",
    ")\n",
    "\n",
    "# Evaluating MAE in the validation set\n",
    "mae = model_2.evaluate(x_val, y_val)[1]\n",
    "\n",
    "print(\"MAE in the validation set:\", mae)"
   ]
  },
  {
   "attachments": {},
   "cell_type": "markdown",
   "metadata": {},
   "source": [
    "Next, we fit the model again from scratch, now named model_2, and plot the loss function values as well as the values of the customized MAE metric depending on the epoch number. It is important to note that we do not continue with the same model as before (named model_1) since we want to start training from scratch. The results can be found in the next Figure. The loss function values are, of course, similar to the ones in the previous task since we do not change anything regarding these. We only evaluate one more value in each step, which is the customized MAE. The MAE values decrease as well for the training and validation sets. Here, the values for the validation set are located above the training data values as well. Additionally, we observe that the values for the training data are less distributed than the values for the validation data. The MAE value of the validation data after 100 epochs is 0.3136."
   ]
  },
  {
   "cell_type": "code",
   "execution_count": 42,
   "metadata": {},
   "outputs": [
    {
     "data": {
      "image/png": "[encoded data removed]",
      "text/plain": [
       "<Figure size 2000x500 with 2 Axes>"
      ]
     },
     "metadata": {},
     "output_type": "display_data"
    }
   ],
   "source": [
    "# Creating a dataframe to store the MSE and MAE values\n",
    "mse_df = pd.DataFrame({\n",
    "    'Epochs': range(1, len(history_mse.history['loss']) + 1),\n",
    "    'Train MSE': history_mse.history['loss'],\n",
    "    'Validation MSE': history_mse.history['val_loss'],\n",
    "})\n",
    "\n",
    "mae_df = pd.DataFrame({\n",
    "    'Epochs': range(1, len(history_mae.history['loss']) + 1),\n",
    "    'Train MAE': history_mae.history['<lambda>'],\n",
    "    'Validation MAE': history_mae.history['val_<lambda>'],\n",
    "})\n",
    "\n",
    "# Creating subplots\n",
    "fig, (ax1, ax2) = plt.subplots(1, 2, figsize=(20, 5))\n",
    "\n",
    "# Plotting MAE subplot\n",
    "sns.scatterplot(\n",
    "    data=mae_df, x='Epochs', y='Train MAE', label='Train MAE', ax=ax1\n",
    ")\n",
    "sns.scatterplot(\n",
    "    data=mae_df, x='Epochs', y='Validation MAE', label='Validation MAE', ax=ax1\n",
    ")\n",
    "ax1.set_title('Mean Absolute Error vs. Epochs')\n",
    "ax1.set_xlabel('Epochs')\n",
    "ax1.set_ylabel('MAE')\n",
    "\n",
    "# Plotting MSE subplot\n",
    "sns.scatterplot(\n",
    "    data=mse_df, x='Epochs', y='Train MSE', label='Train MSE', ax=ax2\n",
    ")\n",
    "sns.scatterplot(\n",
    "    data=mse_df, x='Epochs', y='Validation MSE', label='Validation MSE', ax=ax2\n",
    ")\n",
    "ax2.set_title('Mean Squared Error vs. Epochs')\n",
    "ax2.set_xlabel('Epochs')\n",
    "ax2.set_ylabel('MSE')\n",
    "\n",
    "# Adjusting spacing between subplots\n",
    "plt.tight_layout()\n",
    "\n",
    "# Displaying the subplots\n",
    "plt.show()"
   ]
  },
  {
   "attachments": {},
   "cell_type": "markdown",
   "metadata": {},
   "source": [
    "<p style=\"text-decoration: underline\" id='2-5'>Lab-Question 2.5:</p>\n",
    "\n",
    "*Now think more carefully about hyperparameters. Try the following values for the number of units in the hidden layers: hidden_layer1: {64, 32}, hidden_layer2: {64, 32} and compare the performance.*\n",
    "\n",
    "---\n",
    "\n",
    "**Answer:** We perform a grid search to find the best configuration of hidden layer units for a neural network model. It evaluates different combinations of hidden layer units specified in hidden_layer1_values and hidden_layer2_values lists. We then iterate over all combinations of these values and build, compile, and train the model for each combination. The best_mse variable keeps track of the best MSE found so far, and best_hidden_layers stores the corresponding best configuration. Finally, we print the best configuration and the best MSE achieved in the validation set."
   ]
  },
  {
   "cell_type": "code",
   "execution_count": 63,
   "metadata": {},
   "outputs": [
    {
     "name": "stdout",
     "output_type": "stream",
     "text": [
      "321/321 [==============================] - 1s 3ms/step - loss: 0.2490 - <lambda>: 0.3179\n",
      "750/750 [==============================] - 3s 3ms/step - loss: 0.1411 - <lambda>: 0.2525\n",
      "321/321 [==============================] - 1s 2ms/step - loss: 0.2382 - <lambda>: 0.3139\n",
      "750/750 [==============================] - 2s 2ms/step - loss: 0.1644 - <lambda>: 0.2711\n",
      "321/321 [==============================] - 1s 2ms/step - loss: 0.2338 - <lambda>: 0.3188\n",
      "750/750 [==============================] - 2s 3ms/step - loss: 0.1540 - <lambda>: 0.2709\n",
      "321/321 [==============================] - 0s 1ms/step - loss: 0.2298 - <lambda>: 0.3116\n",
      "750/750 [==============================] - 1s 1ms/step - loss: 0.1733 - <lambda>: 0.2787\n"
     ]
    },
    {
     "data": {
      "text/html": [
       "<div>\n",
       "<style scoped>\n",
       "    .dataframe tbody tr th:only-of-type {\n",
       "        vertical-align: middle;\n",
       "    }\n",
       "\n",
       "    .dataframe tbody tr th {\n",
       "        vertical-align: top;\n",
       "    }\n",
       "\n",
       "    .dataframe thead th {\n",
       "        text-align: right;\n",
       "    }\n",
       "</style>\n",
       "<table border=\"1\" class=\"dataframe\">\n",
       "  <thead>\n",
       "    <tr style=\"text-align: right;\">\n",
       "      <th></th>\n",
       "      <th></th>\n",
       "      <th>val_MSE</th>\n",
       "      <th>val_MAE</th>\n",
       "      <th>train_MSE</th>\n",
       "      <th>train_MAE</th>\n",
       "    </tr>\n",
       "    <tr>\n",
       "      <th>Hidden Layer 1</th>\n",
       "      <th>Hidden Layer 2</th>\n",
       "      <th></th>\n",
       "      <th></th>\n",
       "      <th></th>\n",
       "      <th></th>\n",
       "    </tr>\n",
       "  </thead>\n",
       "  <tbody>\n",
       "    <tr>\n",
       "      <th rowspan=\"2\" valign=\"top\">64</th>\n",
       "      <th>64</th>\n",
       "      <td>0.249006</td>\n",
       "      <td>0.317850</td>\n",
       "      <td>0.141053</td>\n",
       "      <td>0.252539</td>\n",
       "    </tr>\n",
       "    <tr>\n",
       "      <th>32</th>\n",
       "      <td>0.238152</td>\n",
       "      <td>0.313884</td>\n",
       "      <td>0.164386</td>\n",
       "      <td>0.271055</td>\n",
       "    </tr>\n",
       "    <tr>\n",
       "      <th rowspan=\"2\" valign=\"top\">32</th>\n",
       "      <th>64</th>\n",
       "      <td>0.233848</td>\n",
       "      <td>0.318756</td>\n",
       "      <td>0.153963</td>\n",
       "      <td>0.270947</td>\n",
       "    </tr>\n",
       "    <tr>\n",
       "      <th>32</th>\n",
       "      <td>0.229750</td>\n",
       "      <td>0.311563</td>\n",
       "      <td>0.173312</td>\n",
       "      <td>0.278730</td>\n",
       "    </tr>\n",
       "  </tbody>\n",
       "</table>\n",
       "</div>"
      ],
      "text/plain": [
       "                                val_MSE   val_MAE  train_MSE  train_MAE\n",
       "Hidden Layer 1 Hidden Layer 2                                          \n",
       "64             64              0.249006  0.317850   0.141053   0.252539\n",
       "               32              0.238152  0.313884   0.164386   0.271055\n",
       "32             64              0.233848  0.318756   0.153963   0.270947\n",
       "               32              0.229750  0.311563   0.173312   0.278730"
      ]
     },
     "execution_count": 63,
     "metadata": {},
     "output_type": "execute_result"
    }
   ],
   "source": [
    "hidden_layer1_values = [64, 32]\n",
    "hidden_layer2_values = [64, 32]\n",
    "\n",
    "best_mse = float('inf')\n",
    "results = []\n",
    "\n",
    "# Iterate over all combinations of hidden layer units\n",
    "for hidden_layer1 in hidden_layer1_values:\n",
    "    for hidden_layer2 in hidden_layer2_values:\n",
    "        # Build the model\n",
    "        model = keras.Sequential([\n",
    "            layers.Dense(units=hidden_layer1, activation='relu', input_shape=(10,)),\n",
    "            layers.Dense(units=hidden_layer2, activation='relu'),\n",
    "            layers.Dense(units=32, activation='relu'),\n",
    "            layers.Dense(units=1)\n",
    "        ])\n",
    "\n",
    "        # Compile the model\n",
    "        model.compile(optimizer='adam', loss='mean_squared_error', metrics=[custom_mae])\n",
    "\n",
    "        # Train the model\n",
    "        history = model.fit(\n",
    "            x_train, y_train, \n",
    "            batch_size=30, epochs=100, \n",
    "            validation_data=(x_val, y_val), \n",
    "            verbose=0\n",
    "        )\n",
    "\n",
    "        # Evaluate MSE in the validation set\n",
    "        val_mse, val_mae = model.evaluate(x_val, y_val)\n",
    "        train_mse, train_mae = model.evaluate(x_train, y_train)\n",
    "\n",
    "        # Check if current configuration performs better\n",
    "        if val_mse < best_mse:\n",
    "            best_mse = val_mse\n",
    "            best_hidden_layers = (hidden_layer1, hidden_layer2)\n",
    "            best_model = model\n",
    "\n",
    "        # Save the results for this configuration\n",
    "        results.append({\n",
    "            'Hidden Layer 1': hidden_layer1,\n",
    "            'Hidden Layer 2': hidden_layer2,\n",
    "            'val_MSE': val_mse, \n",
    "            'val_MAE': val_mae,\n",
    "            'train_MSE': train_mse,\n",
    "            'train_MAE': train_mae\n",
    "        })\n",
    "        \n",
    "pd.DataFrame(results).set_index(['Hidden Layer 1', 'Hidden Layer 2'])"
   ]
  },
  {
   "attachments": {},
   "cell_type": "markdown",
   "metadata": {},
   "source": [
    "<p style=\"text-decoration: underline\" id='2-6'>Lab-Question 2.6:</p>\n",
    "\n",
    "*Choose the best model and evaluate it on the test set. What is the estimated generalization error of your final model?*\n",
    "\n",
    "---\n",
    "\n",
    "**Answer:** We decide that our best model is the one, that has the lowest mse on the validation set, as the mse is the metric that we optimize for. In out setting the best model is the configuration (32,32) as it has the lowest MSE and additionally the lowest MAE in the validation set."
   ]
  },
  {
   "cell_type": "code",
   "execution_count": 64,
   "metadata": {},
   "outputs": [
    {
     "name": "stdout",
     "output_type": "stream",
     "text": [
      "Best Hidden Layers Configuration: (32, 32)\n",
      "Best MSE in the validation set: 0.22975043952465057\n"
     ]
    }
   ],
   "source": [
    "# Print the best configuration and MAE\n",
    "print(\"Best Hidden Layers Configuration:\", best_hidden_layers)\n",
    "print(\"Best MSE in the validation set:\", best_mse)"
   ]
  },
  {
   "cell_type": "code",
   "execution_count": 65,
   "metadata": {},
   "outputs": [
    {
     "name": "stdout",
     "output_type": "stream",
     "text": [
      "157/157 [==============================] - 0s 2ms/step - loss: 0.2311 - <lambda>: 0.3115\n"
     ]
    },
    {
     "data": {
      "text/plain": [
       "[0.2310580015182495, 0.31146255135536194]"
      ]
     },
     "execution_count": 65,
     "metadata": {},
     "output_type": "execute_result"
    }
   ],
   "source": [
    "best_model.evaluate(x_test, y_test)"
   ]
  },
  {
   "attachments": {},
   "cell_type": "markdown",
   "metadata": {},
   "source": [
    "the estimated generalization error of our model is 0.2311 (MSE) "
   ]
  }
 ],
 "metadata": {
  "kernelspec": {
   "display_name": ".venv",
   "language": "python",
   "name": "python3"
  },
  "language_info": {
   "codemirror_mode": {
    "name": "ipython",
    "version": 3
   },
   "file_extension": ".py",
   "mimetype": "text/x-python",
   "name": "python",
   "nbconvert_exporter": "python",
   "pygments_lexer": "ipython3",
   "version": "3.11.1"
  },
  "orig_nbformat": 4
 },
 "nbformat": 4,
 "nbformat_minor": 2
}
